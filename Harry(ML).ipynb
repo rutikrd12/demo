{
 "cells": [
  {
   "cell_type": "code",
   "execution_count": null,
   "id": "7bc74090",
   "metadata": {},
   "outputs": [],
   "source": []
  },
  {
   "cell_type": "code",
   "execution_count": 79,
   "id": "62e788c8",
   "metadata": {},
   "outputs": [],
   "source": [
    "import matplotlib.pyplot as plt\n",
    "import numpy as np\n",
    "from sklearn import datasets, linear_model"
   ]
  },
  {
   "cell_type": "code",
   "execution_count": 80,
   "id": "a86ea182",
   "metadata": {},
   "outputs": [
    {
     "name": "stdout",
     "output_type": "stream",
     "text": [
      "dict_keys(['data', 'target', 'frame', 'DESCR', 'feature_names', 'data_filename', 'target_filename'])\n"
     ]
    }
   ],
   "source": [
    "dia=datasets.load_diabetes()\n",
    "print(dia.keys())"
   ]
  },
  {
   "cell_type": "markdown",
   "id": "79b78a03",
   "metadata": {},
   "source": [
    "#dict_keys(['data', 'target', 'frame', 'DESCR', 'feature_names', 'data_filename', 'target_filename'])"
   ]
  },
  {
   "cell_type": "code",
   "execution_count": 81,
   "id": "ce6e7115",
   "metadata": {
    "scrolled": true
   },
   "outputs": [
    {
     "name": "stdout",
     "output_type": "stream",
     "text": [
      ".. _diabetes_dataset:\n",
      "\n",
      "Diabetes dataset\n",
      "----------------\n",
      "\n",
      "Ten baseline variables, age, sex, body mass index, average blood\n",
      "pressure, and six blood serum measurements were obtained for each of n =\n",
      "442 diabetes patients, as well as the response of interest, a\n",
      "quantitative measure of disease progression one year after baseline.\n",
      "\n",
      "**Data Set Characteristics:**\n",
      "\n",
      "  :Number of Instances: 442\n",
      "\n",
      "  :Number of Attributes: First 10 columns are numeric predictive values\n",
      "\n",
      "  :Target: Column 11 is a quantitative measure of disease progression one year after baseline\n",
      "\n",
      "  :Attribute Information:\n",
      "      - age     age in years\n",
      "      - sex\n",
      "      - bmi     body mass index\n",
      "      - bp      average blood pressure\n",
      "      - s1      tc, total serum cholesterol\n",
      "      - s2      ldl, low-density lipoproteins\n",
      "      - s3      hdl, high-density lipoproteins\n",
      "      - s4      tch, total cholesterol / HDL\n",
      "      - s5      ltg, possibly log of serum triglycerides level\n",
      "      - s6      glu, blood sugar level\n",
      "\n",
      "Note: Each of these 10 feature variables have been mean centered and scaled by the standard deviation times `n_samples` (i.e. the sum of squares of each column totals 1).\n",
      "\n",
      "Source URL:\n",
      "https://www4.stat.ncsu.edu/~boos/var.select/diabetes.html\n",
      "\n",
      "For more information see:\n",
      "Bradley Efron, Trevor Hastie, Iain Johnstone and Robert Tibshirani (2004) \"Least Angle Regression,\" Annals of Statistics (with discussion), 407-499.\n",
      "(https://web.stanford.edu/~hastie/Papers/LARS/LeastAngle_2002.pdf)\n"
     ]
    }
   ],
   "source": [
    "print(dia.DESCR)"
   ]
  },
  {
   "cell_type": "code",
   "execution_count": 82,
   "id": "f03316c5",
   "metadata": {},
   "outputs": [
    {
     "name": "stdout",
     "output_type": "stream",
     "text": [
      "[[ 0.03807591  0.05068012  0.06169621 ... -0.00259226  0.01990842\n",
      "  -0.01764613]\n",
      " [-0.00188202 -0.04464164 -0.05147406 ... -0.03949338 -0.06832974\n",
      "  -0.09220405]\n",
      " [ 0.08529891  0.05068012  0.04445121 ... -0.00259226  0.00286377\n",
      "  -0.02593034]\n",
      " ...\n",
      " [ 0.04170844  0.05068012 -0.01590626 ... -0.01107952 -0.04687948\n",
      "   0.01549073]\n",
      " [-0.04547248 -0.04464164  0.03906215 ...  0.02655962  0.04452837\n",
      "  -0.02593034]\n",
      " [-0.04547248 -0.04464164 -0.0730303  ... -0.03949338 -0.00421986\n",
      "   0.00306441]]\n"
     ]
    }
   ],
   "source": [
    "dia_x=dia.data#[:,np.newaxis,2]\n",
    "print(dia_x)\n",
    "#print(dia_x.size)"
   ]
  },
  {
   "cell_type": "code",
   "execution_count": 83,
   "id": "cb28b870",
   "metadata": {},
   "outputs": [],
   "source": [
    "dia_x_train=dia_x[:-30]\n",
    "dia_x_test=dia_x[-30:]"
   ]
  },
  {
   "cell_type": "code",
   "execution_count": 84,
   "id": "f36315fc",
   "metadata": {},
   "outputs": [],
   "source": [
    "dia_y_train=dia.target[:-30]\n",
    "dia_y_test=dia.target[-30:]"
   ]
  },
  {
   "cell_type": "code",
   "execution_count": 85,
   "id": "2f2c2602",
   "metadata": {},
   "outputs": [],
   "source": [
    "# x axis featrues & y axis labels"
   ]
  },
  {
   "cell_type": "code",
   "execution_count": 86,
   "id": "146bda05",
   "metadata": {},
   "outputs": [
    {
     "data": {
      "text/plain": [
       "array([234.04069476, 122.92246614, 166.35433115, 174.39222892,\n",
       "       226.94851442, 151.82190227, 100.94358512,  83.08956073,\n",
       "       143.1298667 , 192.67823683, 197.98434449, 154.37965196,\n",
       "       173.16544327, 112.38886823, 164.20528828, 131.63666326,\n",
       "       258.66439447, 101.4126313 , 117.87101994, 123.5370635 ,\n",
       "       219.5123662 ,  62.09123359, 133.09435929, 121.33048447,\n",
       "        53.51502538, 193.125764  , 104.69007361, 123.68983031,\n",
       "       211.27336049,  53.87045485])"
      ]
     },
     "execution_count": 86,
     "metadata": {},
     "output_type": "execute_result"
    }
   ],
   "source": [
    "model=linear_model.LinearRegression()\n",
    "model.fit(dia_x_train,dia_y_train)\n",
    "model.predict(dia_x_test)"
   ]
  },
  {
   "cell_type": "code",
   "execution_count": 87,
   "id": "4fed7876",
   "metadata": {},
   "outputs": [],
   "source": [
    "from sklearn.metrics import mean_squared_error  #avg of sum of squared error"
   ]
  },
  {
   "cell_type": "code",
   "execution_count": 88,
   "id": "39e6d5d3",
   "metadata": {},
   "outputs": [],
   "source": [
    "dia_y_predicted=model.predict(dia_x_test)"
   ]
  },
  {
   "cell_type": "code",
   "execution_count": 89,
   "id": "fc691eb1",
   "metadata": {},
   "outputs": [
    {
     "name": "stdout",
     "output_type": "stream",
     "text": [
      "mean squred error is 1826.5364191345423\n"
     ]
    }
   ],
   "source": [
    "print('mean squred error is',mean_squared_error(dia_y_test,dia_y_predicted))"
   ]
  },
  {
   "cell_type": "code",
   "execution_count": 90,
   "id": "6e3c9c23",
   "metadata": {},
   "outputs": [
    {
     "name": "stdout",
     "output_type": "stream",
     "text": [
      "weights [  -1.16924976 -237.18461486  518.30606657  309.04865826 -763.14121622\n",
      "  458.90999325   80.62441437  174.32183366  721.49712065   79.19307944]\n",
      "intercept 153.05827988224112\n"
     ]
    }
   ],
   "source": [
    "print('weights',model.coef_)\n",
    "print('intercept',model.intercept_)"
   ]
  },
  {
   "cell_type": "code",
   "execution_count": 92,
   "id": "b144a298",
   "metadata": {},
   "outputs": [],
   "source": [
    "#plt.scatter(dia_x_train,dia_y_train)"
   ]
  },
  {
   "cell_type": "code",
   "execution_count": null,
   "id": "25c75c3e",
   "metadata": {},
   "outputs": [],
   "source": [
    "#plt.plot(dia_x_test,dia_y_predicted);"
   ]
  },
  {
   "cell_type": "code",
   "execution_count": null,
   "id": "41fcfe69",
   "metadata": {},
   "outputs": [],
   "source": []
  }
 ],
 "metadata": {
  "kernelspec": {
   "display_name": "Python 3 (ipykernel)",
   "language": "python",
   "name": "python3"
  },
  "language_info": {
   "codemirror_mode": {
    "name": "ipython",
    "version": 3
   },
   "file_extension": ".py",
   "mimetype": "text/x-python",
   "name": "python",
   "nbconvert_exporter": "python",
   "pygments_lexer": "ipython3",
   "version": "3.9.7"
  }
 },
 "nbformat": 4,
 "nbformat_minor": 5
}
