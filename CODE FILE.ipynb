{
 "cells": [
  {
   "cell_type": "raw",
   "id": "0ae392db",
   "metadata": {},
   "source": [
    "from pyforest import *\n",
    "lazy_imports()"
   ]
  },
  {
   "cell_type": "markdown",
   "id": "c37c2ef1",
   "metadata": {},
   "source": [
    "**STEPS:**\n",
    "\n",
    "## Regression\n",
    "\n",
    "    1.simple/multiple/polynomial\n",
    "    2.SVR\n",
    "    3.DTR\n",
    "    4.RFR\n",
    "    \n",
    "##  Classification\n",
    "\n",
    "    1.GaussianNB\n",
    "    2.KNeighborsClassifier\n",
    "    3.LogisticRegression\n",
    "    4.support vector machine\n",
    "    5.DecisionTreeClassifier\n",
    "    6.RandomForestClassifier\n",
    "    7.Bagging & Boosting\n",
    "      * VotingClassifier\n",
    "      * \n",
    "\n",
    "​"
   ]
  },
  {
   "cell_type": "markdown",
   "id": "129b0d85",
   "metadata": {},
   "source": [
    "**sklearn.model_selection import:**\n",
    "    \n",
    "    1.train_test_split\n",
    "    2.KFold\n",
    "    3.cross_val_score\n",
    "    4.GridSearchCV\n",
    "\n",
    "**from sklearn.linear_model import:**\n",
    "\n",
    "    1.LinearRegression\n",
    "    2.Lasso,Ridge,ElasticNet(Regularization)\n",
    "    3.LogisticRegression\n",
    "    \n",
    "**from sklearn.preprocessing import:**\n",
    "\n",
    "    1.PolynomialFeatures(regression)\n",
    "    2.MinMaxScaler,StandardScaler (Data Standardization)\n",
    "\n",
    "**from sklearn.feature_selection import:**\n",
    "\n",
    "    1.RFE----(FOR GridSearchCV)\n",
    "    \n",
    "    \n",
    "## Classification\n",
    "\n",
    "**1. from sklearn.naive_bayes import GaussianNB**\n",
    "\n",
    "**2. from sklearn.neighbors import KNeighborsClassifier**\n",
    "\n",
    "**3. from sklearn.linear_model import LogisticRegression**\n",
    "\n",
    "**4. from sklearm import svm**\n",
    "\n",
    "**5.from sklearn.tree import DecisionTreeClassifier**\n",
    "\n",
    "**6. from sklearn.ensemble import RandomForestClassifier**"
   ]
  },
  {
   "cell_type": "code",
   "execution_count": null,
   "id": "0c4c3b38",
   "metadata": {},
   "outputs": [],
   "source": []
  },
  {
   "cell_type": "markdown",
   "id": "ca74495a",
   "metadata": {},
   "source": [
    "### Handling Outliers"
   ]
  },
  {
   "cell_type": "raw",
   "id": "3d5eb394",
   "metadata": {},
   "source": [
    "#Handling Outliers\n",
    "for cols in df.columns[:]:\n",
    "    Q1=f[cols].quantile(q=0.25)\n",
    "    Q3=f[cols].quantile(q=0.75)\n",
    "    iqr=Q3-Q1\n",
    "    \n",
    "    low=Q1-1.5*(Q3-Q1)\n",
    "    high=Q3+1.5*(Q3-Q1)\n",
    "    f.loc[(f[cols]<low) | (f[cols]>high),cols]=f[cols].median()"
   ]
  },
  {
   "cell_type": "raw",
   "id": "688f5dea",
   "metadata": {},
   "source": [
    "# 0 means the model is perfect. Therefore the value should be as close to 0 as possible\n",
    "meanAbErr = metrics.mean_absolute_error(y_test, y_test_pred)\n",
    "meanSqErr = metrics.mean_squared_error(y_test, y_test_pred)\n",
    "rootMeanSqErr = np.sqrt(metrics.mean_squared_error(y_test, y_test_pred))\n",
    "\n",
    "print('Mean Absolute Error:', meanAbErr)\n",
    "print('Mean Square Error:', meanSqErr)\n",
    "print('Root Mean Square Error:', rootMeanSqErr)"
   ]
  },
  {
   "cell_type": "markdown",
   "id": "6883213c",
   "metadata": {},
   "source": [
    "### Lasso Regulization"
   ]
  },
  {
   "cell_type": "raw",
   "id": "15eb3cdb",
   "metadata": {},
   "source": [
    "#Lasso Regulization\n",
    "from sklearn.linear_model import Lasso\n",
    "lso=Lasso(alpha=50, max_iter=100, tol=0.1)\n",
    "x_train,x_test,y_train,y_test=train_test_split(x,y,test_size=0.2,random_state=0)\n",
    "lso.fit(x_train,y_train)\n",
    "print(\"lasso_train_score:\",lso.score(x_train,y_train))\n",
    "print(\"lasso_test_score:\",lso.score(x_test,y_test))"
   ]
  },
  {
   "cell_type": "markdown",
   "id": "50470ec1",
   "metadata": {},
   "source": [
    "### Ridge Regulization"
   ]
  },
  {
   "cell_type": "raw",
   "id": "19769ec1",
   "metadata": {},
   "source": [
    "# Ridge Regulization\n",
    "from sklearn.linear_model import Ridge\n",
    "ridge=Ridge(alpha=50, max_iter=100, tol=0.1)\n",
    "x_train,x_test,y_train,y_test=train_test_split(x,y,test_size=0.2,random_state=0)\n",
    "ridge.fit(x_train,y_train)\n",
    "print(\"Ridge_train_score:\",ridge.score(x_train,y_train))\n",
    "print(\"Ridge_test_score:\",ridge.score(x_test,y_test))"
   ]
  },
  {
   "cell_type": "markdown",
   "id": "dd6fa2a1",
   "metadata": {},
   "source": [
    "### ElasticNet Regularization"
   ]
  },
  {
   "cell_type": "raw",
   "id": "7a0a2908",
   "metadata": {},
   "source": [
    "#ElasticNet Regularization\n",
    "from sklearn.linear_model import ElasticNet\n",
    "enet=ElasticNet(alpha=50, max_iter=100, tol=0.1)\n",
    "x_train,x_test,y_train,y_test=train_test_split(x,y,test_size=0.2,random_state=0)\n",
    "enet.fit(x_train,y_train)\n",
    "print(\"ENet_train_score:\",enet.score(x_train,y_train))\n",
    "print(\"ENet_train_score:\",enet.score(x_test,y_test))"
   ]
  },
  {
   "cell_type": "markdown",
   "id": "c0f853d7",
   "metadata": {},
   "source": [
    "### Linear & Multiple Regression"
   ]
  },
  {
   "cell_type": "raw",
   "id": "c2fdf6bb",
   "metadata": {},
   "source": [
    "x_train,x_test,y_train,y_test=train_test_split(x,y,test_size=0.2,random_state=0)\n",
    "lr=LinearRegression()\n",
    "lr.fit(x_train,y_train)\n",
    "y_test_pred=lr.predict(x_test)\n",
    "y_train_pred=lr.predict(x_train)\n",
    "print(\"r2_score_train:\",r2_score(y_train,y_train_pred))\n",
    "print(\"r2_score_test:\",r2_score(y_test,y_test_pred))"
   ]
  },
  {
   "cell_type": "raw",
   "id": "55b0f0e2",
   "metadata": {},
   "source": [
    "## Polynomial Regressor\n",
    "from sklearn.preprocessing import PolynomialFeatures\n",
    "from sklearn import metrics\n",
    "poly_reg = PolynomialFeatures(degree = 2)\n",
    "X_poly = poly_reg.fit_transform(X_train)\n",
    "lr_poly_regressor = LinearRegression(fit_intercept=True)\n",
    "lr_poly_regressor.fit(X_poly, y_train)\n",
    "\n",
    "# Predicting Test Set\n",
    "y_pred = lr_poly_regressor.predict(poly_reg.fit_transform(X_test))\n",
    "mae = metrics.mean_absolute_error(y_test, y_pred)\n",
    "mse = metrics.mean_squared_error(y_test, y_pred)\n",
    "rmse = np.sqrt(metrics.mean_squared_error(y_test, y_pred))\n",
    "r2 = metrics.r2_score(y_test, y_pred)\n",
    "\n",
    "model_results = pd.DataFrame([['Polynomial Regression', mae, mse, rmse, r2]],\n",
    "               columns = ['Model', 'MAE', 'MSE', 'RMSE', 'R2 Score'])\n",
    "\n",
    "results = results.append(model_results, ignore_index = True)"
   ]
  },
  {
   "cell_type": "markdown",
   "id": "f58fef24",
   "metadata": {},
   "source": [
    "# KFold"
   ]
  },
  {
   "cell_type": "raw",
   "id": "2741eb67",
   "metadata": {},
   "source": [
    "#KFold for Linear\n",
    "import numpy as np\n",
    "from sklearn.model_selection import KFold\n",
    "from sklearn.model_selection import cross_val_score\n",
    "\n",
    "lr = LinearRegression()\n",
    "fold=KFold(n_splits=5,shuffle=True,random_state=0)\n",
    "score_train=cross_val_score(lr,x_train,y_train,cv=fold)\n",
    "score_test=cross_val_score(lr,x_test,y_test,cv=fold)\n",
    "\n",
    "print(score_train)\n",
    "print(score_test)\n",
    "print()\n",
    "acc_score_train=np.mean(abs(score_train))\n",
    "acc_score_test=np.mean(abs(score_test))\n",
    "\n",
    "print(\"acc_score_train :\",acc_score_train)\n",
    "print(\"acc_score_test :\",acc_score_test)"
   ]
  },
  {
   "cell_type": "raw",
   "id": "6db38ec8",
   "metadata": {},
   "source": [
    "f.plot(kind='box', subplots=True, figsize=(30,30),layout=(3,4), sharex=False, sharey=False)\n",
    "plt.show()"
   ]
  },
  {
   "cell_type": "markdown",
   "id": "9654966c",
   "metadata": {},
   "source": [
    "### GridSearchCV for regression"
   ]
  },
  {
   "cell_type": "raw",
   "id": "bb905e36",
   "metadata": {},
   "source": [
    "from sklearn.model_selection import GridSearchCV,cross_val_score,KFold\n",
    "from sklearn.feature_selection import RFE\n",
    "\n",
    "lr=LinearRegression()\n",
    "lr.fit(X_train,y_train)\n",
    "\n",
    "rfe=RFE(lr)\n",
    "\n",
    "fold=KFold(n_splits=5,shuffle=True,random_state=0)\n",
    "\n",
    "model_param = [{}]\n",
    "\n",
    "model=GridSearchCV(estimator=rfe,\n",
    "                   param_grid=model_param,\n",
    "                   scoring='r2',\n",
    "                   verbose=1,cv=fold)\n",
    "\n",
    "model.fit(X_train, y_train)\n",
    "\n",
    "print(model.best_params_)\n",
    "print(model.best_score_)\n",
    "print(model.best_estimator_)"
   ]
  },
  {
   "cell_type": "markdown",
   "id": "bfaabe08",
   "metadata": {},
   "source": [
    "### GridSearchCV for classification"
   ]
  },
  {
   "cell_type": "raw",
   "id": "55c124b4",
   "metadata": {},
   "source": [
    "from sklearn.model_selection import GridSearchCV,cross_val_score,StratifiedKFold\n",
    "\n",
    "lr=LogisticRegression()\n",
    "lr.fit(X_train,y_train)\n",
    "\n",
    "solvers = ['lbfgs', 'liblinear']\n",
    "penalty = ['l2',\"l1\"]\n",
    "c_values = [100, 10, 1.0, 0.1, 0.01]\n",
    "\n",
    "fold=StratifiedKFold(n_splits=5,shuffle=True,random_state=0)\n",
    "grid = dict(solver=solvers,penalty=penalty,C=c_values)\n",
    "\n",
    "model=GridSearchCV(estimator=rfe,\n",
    "                   param_grid=grid,\n",
    "                   scoring='accuracy',\n",
    "                   verbose=1,cv=fold)\n",
    "\n",
    "model.fit(X_train, y_train)\n",
    "\n",
    "print(model.best_params_)\n",
    "print(model.best_score_)\n",
    "print(model.best_estimator_)"
   ]
  },
  {
   "cell_type": "markdown",
   "id": "5e9b37c1",
   "metadata": {},
   "source": [
    "### Bagging & boosting"
   ]
  },
  {
   "cell_type": "raw",
   "id": "c40aa434",
   "metadata": {},
   "source": [
    "#VotingClassifier\n",
    "\n",
    "from sklearn.ensemble import RandomForestClassifier\n",
    "from sklearn.linear_model import LogisticRegression\n",
    "from sklearn.svm import SVC\n",
    "\n",
    "log_clf = LogisticRegression(random_state=42)\n",
    "rnd_clf = RandomForestClassifier(random_state=42)\n",
    "svm_clf = SVC(random_state=42)\n",
    "\n",
    "from sklearn.ensemble import VotingClassifier\n",
    "\n",
    "voting_clf = VotingClassifier(\n",
    "    estimators=[('lr', log_clf), ('rf', rnd_clf), ('svc', svm_clf)],\n",
    "    voting='hard'/'soft')\n",
    "voting_clf.fit(X_train, y_train)"
   ]
  },
  {
   "cell_type": "code",
   "execution_count": null,
   "id": "cecf1aa6",
   "metadata": {},
   "outputs": [],
   "source": []
  }
 ],
 "metadata": {
  "kernelspec": {
   "display_name": "Python 3 (ipykernel)",
   "language": "python",
   "name": "python3"
  },
  "language_info": {
   "codemirror_mode": {
    "name": "ipython",
    "version": 3
   },
   "file_extension": ".py",
   "mimetype": "text/x-python",
   "name": "python",
   "nbconvert_exporter": "python",
   "pygments_lexer": "ipython3",
   "version": "3.9.7"
  }
 },
 "nbformat": 4,
 "nbformat_minor": 5
}
